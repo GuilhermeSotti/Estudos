{
 "cells": [
  {
   "cell_type": "markdown",
   "id": "985592c8",
   "metadata": {},
   "source": [
    "# 03 - Modeling\n",
    "\n",
    "Treinar e comparar diferentes algoritmos de classificação, validação cruzada, tuning, avaliação."
   ]
  },
  {
   "cell_type": "code",
   "execution_count": 13,
   "id": "cce20c4b",
   "metadata": {},
   "outputs": [],
   "source": [
    "import pandas as pd\n",
    "import numpy as np\n",
    "import matplotlib.pyplot as plt\n",
    "from sklearn.model_selection import train_test_split, StratifiedKFold, cross_validate, GridSearchCV\n",
    "from sklearn.preprocessing import StandardScaler\n",
    "from sklearn.pipeline import Pipeline\n",
    "from sklearn.neighbors import KNeighborsClassifier\n",
    "from sklearn.svm import SVC\n",
    "from sklearn.ensemble import RandomForestClassifier\n",
    "from sklearn.metrics import classification_report, confusion_matrix\n",
    "import os\n",
    "\n",
    "TRAIN_CSV = 'outputs/figures/predictions.csv'\n",
    "TEST_CSV = 'data/processed/processed_seeds.csv'\n",
    "\n",
    "df_train = pd.read_csv(os.path.abspath(TRAIN_CSV))\n",
    "df_test = pd.read_csv(os.path.abspath(TEST_CSV))\n",
    "\n",
    "df_train['class_name'] = df_train['class'].map({1:'Kama',2:'Rosa',3:'Canadian'})\n",
    "df_test['class_name'] = df_test['class'].map({1:'Kama',2:'Rosa',3:'Canadian'})"
   ]
  },
  {
   "cell_type": "markdown",
   "id": "46b9b083",
   "metadata": {},
   "source": [
    "## Preparar X_train, X_test com features escolhidas"
   ]
  },
  {
   "cell_type": "code",
   "execution_count": 14,
   "id": "7eff1429",
   "metadata": {},
   "outputs": [],
   "source": [
    "def calc_compactness(area, perimeter): return 4*np.pi*area/(perimeter**2) if perimeter>0 else np.nan\n",
    "for df in [df_train, df_test]:\n",
    "    df['compactness_calc'] = df.apply(lambda r: calc_compactness(r['area'], r['perimeter']), axis=1)\n",
    "    df['ratio_length_width'] = df['length'] / df['width'].replace({0: np.nan})\n",
    "feature_cols = ['area','perimeter','compactness_calc','length','width','asymmetry','groove','ratio_length_width']\n",
    "X_train = df_train[feature_cols].values\n",
    "y_train = df_train['class'].values\n",
    "X_test = df_test[feature_cols].values\n",
    "y_test = df_test['class'].values"
   ]
  },
  {
   "cell_type": "markdown",
   "id": "e406bd5b",
   "metadata": {},
   "source": [
    "## Pipelines iniciais e Cross-Validation"
   ]
  },
  {
   "cell_type": "code",
   "execution_count": 15,
   "id": "91285bdf",
   "metadata": {},
   "outputs": [
    {
     "name": "stdout",
     "output_type": "stream",
     "text": [
      "KNN: accuracy=0.923, f1=0.921\n",
      "SVM: accuracy=0.928, f1=0.928\n",
      "RF: accuracy=0.918, f1=0.917\n"
     ]
    }
   ],
   "source": [
    "pipelines = {\n",
    "    'KNN': Pipeline([('scaler', StandardScaler()), ('clf', KNeighborsClassifier())]),\n",
    "    'SVM': Pipeline([('scaler', StandardScaler()), ('clf', SVC(probability=True))]),\n",
    "    'RF': Pipeline([('clf', RandomForestClassifier(random_state=42))]),\n",
    "}\n",
    "cv = StratifiedKFold(n_splits=5, shuffle=True, random_state=42)\n",
    "scoring = ['accuracy','precision_macro','recall_macro','f1_macro']\n",
    "results = {}\n",
    "for name, pipe in pipelines.items():\n",
    "    res = cross_validate(pipe, X_train, y_train, cv=cv, scoring=scoring)\n",
    "    print(f\"{name}: accuracy={res['test_accuracy'].mean():.3f}, f1={res['test_f1_macro'].mean():.3f}\")"
   ]
  },
  {
   "cell_type": "markdown",
   "id": "20831e79",
   "metadata": {},
   "source": [
    "## Hyperparameter Tuning (exemplo SVM)"
   ]
  },
  {
   "cell_type": "code",
   "execution_count": 16,
   "id": "ec407008",
   "metadata": {},
   "outputs": [
    {
     "name": "stdout",
     "output_type": "stream",
     "text": [
      "Melhores params SVM: {'clf__C': 10, 'clf__gamma': 'scale', 'clf__kernel': 'linear'}\n",
      "Melhor score CV: 0.9519163763066201\n"
     ]
    }
   ],
   "source": [
    "param_grid = {\n",
    "    'clf__C': [0.1, 1, 10],\n",
    "    'clf__kernel': ['linear','rbf'],\n",
    "    'clf__gamma': ['scale','auto']\n",
    "}\n",
    "pipe_svm = Pipeline([('scaler', StandardScaler()), ('clf', SVC(probability=True))])\n",
    "grid = GridSearchCV(pipe_svm, param_grid, cv=cv, scoring='accuracy')\n",
    "grid.fit(X_train, y_train)\n",
    "print('Melhores params SVM:', grid.best_params_)\n",
    "print('Melhor score CV:', grid.best_score_)\n",
    "best_svm = grid.best_estimator_"
   ]
  },
  {
   "cell_type": "markdown",
   "id": "515ff2bf",
   "metadata": {},
   "source": [
    "## Avaliação Final no Conjunto de Teste"
   ]
  },
  {
   "cell_type": "code",
   "execution_count": 17,
   "id": "1b3494d8",
   "metadata": {},
   "outputs": [
    {
     "name": "stdout",
     "output_type": "stream",
     "text": [
      "              precision    recall  f1-score   support\n",
      "\n",
      "        Kama       0.96      0.99      0.97        70\n",
      "        Rosa       1.00      1.00      1.00        70\n",
      "    Canadian       0.98      0.96      0.97        68\n",
      "\n",
      "    accuracy                           0.98       208\n",
      "   macro avg       0.98      0.98      0.98       208\n",
      "weighted avg       0.98      0.98      0.98       208\n",
      "\n",
      "Matriz de Confusão:\n",
      " [[69  0  1]\n",
      " [ 0 70  0]\n",
      " [ 3  0 65]]\n"
     ]
    },
    {
     "data": {
      "image/png": "[encoded data removed]",
      "text/plain": [
       "<Figure size 640x480 with 2 Axes>"
      ]
     },
     "metadata": {},
     "output_type": "display_data"
    }
   ],
   "source": [
    "from sklearn.metrics import classification_report, confusion_matrix\n",
    "y_pred = best_svm.predict(X_test)\n",
    "print(classification_report(y_test, y_pred, target_names=['Kama','Rosa','Canadian']))\n",
    "cm = confusion_matrix(y_test, y_pred)\n",
    "print('Matriz de Confusão:\\n', cm)\n",
    "\n",
    "import seaborn as sns\n",
    "import matplotlib.pyplot as plt\n",
    "plt.figure()\n",
    "sns.heatmap(cm, annot=True, fmt='d', xticklabels=['Kama','Rosa','Canadian'], yticklabels=['Kama','Rosa','Canadian'], cmap='Blues')\n",
    "plt.ylabel('True'); plt.xlabel('Predicted'); plt.title('Matriz de Confusão - Teste')\n",
    "plt.show()"
   ]
  }
 ],
 "metadata": {
  "kernelspec": {
   "display_name": ".venv",
   "language": "python",
   "name": "python3"
  },
  "language_info": {
   "codemirror_mode": {
    "name": "ipython",
    "version": 3
   },
   "file_extension": ".py",
   "mimetype": "text/x-python",
   "name": "python",
   "nbconvert_exporter": "python",
   "pygments_lexer": "ipython3",
   "version": "3.11.9"
  }
 },
 "nbformat": 4,
 "nbformat_minor": 5
}
