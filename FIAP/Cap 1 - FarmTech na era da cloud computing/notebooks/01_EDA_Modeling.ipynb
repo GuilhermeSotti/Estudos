{
 "cells": [
  {
   "cell_type": "markdown",
   "id": "dc7dd9e6",
   "metadata": {},
   "source": [
    "# 01 - EDA e Modelagem (FarmTech)\n",
    "\n",
    "Este notebook contém:\n",
    "- Leitura do dataset com colunas: Crop, Precipitation (mm day-1), Specific Humidity at 2 Meters (g/kg), Relative Humidity at 2 Meters (%), Temperature at 2 Meters (C), Yield\n",
    "- Limpeza e normalização de nomes\n",
    "- Análise exploratória (estatísticas, correlações, histogramas)\n",
    "- Clusterização (KMeans) para identificar perfis ambientais\n",
    "- Treinamento de 5 modelos de regressão (Linear, Decision Tree, Random Forest, XGBoost, SVR)\n",
    "- Avaliação com RMSE, MAE e R²\n",
    "- Geração de artefatos: `artifacts/metrics.csv` e `artifacts/feature_importances.png`"
   ]
  },
  {
   "cell_type": "code",
   "execution_count": 27,
   "id": "84d6a316",
   "metadata": {},
   "outputs": [],
   "source": [
    "import pandas as pd\n",
    "import numpy as np\n",
    "import matplotlib.pyplot as plt\n",
    "from sklearn.cluster import KMeans\n",
    "from sklearn.preprocessing import StandardScaler\n",
    "from sklearn.model_selection import train_test_split\n",
    "from sklearn.metrics import root_mean_squared_error, mean_absolute_error, r2_score\n",
    "from sklearn.linear_model import LinearRegression\n",
    "from sklearn.tree import DecisionTreeRegressor\n",
    "from sklearn.ensemble import RandomForestRegressor\n",
    "from sklearn.svm import SVR\n",
    "from xgboost import XGBRegressor\n",
    "import joblib\n"
   ]
  },
  {
   "cell_type": "markdown",
   "id": "22f6fe36",
   "metadata": {},
   "source": [
    "## 1) Carregar dados\n",
    "\n",
    "A seguir carregamos o CSV `data/crop_yield.csv`. As colunas esperadas são:\n",
    "- Crop\n",
    "- Precipitation (mm day-1)\n",
    "- Specific Humidity at 2 Meters (g/kg)\n",
    "- Relative Humidity at 2 Meters (%)\n",
    "- Temperature at 2 Meters (C)\n",
    "- Yield"
   ]
  },
  {
   "cell_type": "code",
   "execution_count": 9,
   "id": "98076757",
   "metadata": {},
   "outputs": [
    {
     "name": "stdout",
     "output_type": "stream",
     "text": [
      "Shape: (156, 6)\n"
     ]
    },
    {
     "data": {
      "text/html": [
       "<div>\n",
       "<style scoped>\n",
       "    .dataframe tbody tr th:only-of-type {\n",
       "        vertical-align: middle;\n",
       "    }\n",
       "\n",
       "    .dataframe tbody tr th {\n",
       "        vertical-align: top;\n",
       "    }\n",
       "\n",
       "    .dataframe thead th {\n",
       "        text-align: right;\n",
       "    }\n",
       "</style>\n",
       "<table border=\"1\" class=\"dataframe\">\n",
       "  <thead>\n",
       "    <tr style=\"text-align: right;\">\n",
       "      <th></th>\n",
       "      <th>Crop</th>\n",
       "      <th>Precipitation (mm day-1)</th>\n",
       "      <th>Specific Humidity at 2 Meters (g/kg)</th>\n",
       "      <th>Relative Humidity at 2 Meters (%)</th>\n",
       "      <th>Temperature at 2 Meters (C)</th>\n",
       "      <th>Yield</th>\n",
       "    </tr>\n",
       "  </thead>\n",
       "  <tbody>\n",
       "    <tr>\n",
       "      <th>0</th>\n",
       "      <td>Cocoa, beans</td>\n",
       "      <td>2248.92</td>\n",
       "      <td>17.72</td>\n",
       "      <td>83.40</td>\n",
       "      <td>26.01</td>\n",
       "      <td>11560</td>\n",
       "    </tr>\n",
       "    <tr>\n",
       "      <th>1</th>\n",
       "      <td>Cocoa, beans</td>\n",
       "      <td>1938.42</td>\n",
       "      <td>17.54</td>\n",
       "      <td>82.11</td>\n",
       "      <td>26.11</td>\n",
       "      <td>11253</td>\n",
       "    </tr>\n",
       "    <tr>\n",
       "      <th>2</th>\n",
       "      <td>Cocoa, beans</td>\n",
       "      <td>2301.54</td>\n",
       "      <td>17.81</td>\n",
       "      <td>82.79</td>\n",
       "      <td>26.24</td>\n",
       "      <td>9456</td>\n",
       "    </tr>\n",
       "    <tr>\n",
       "      <th>3</th>\n",
       "      <td>Cocoa, beans</td>\n",
       "      <td>2592.35</td>\n",
       "      <td>17.61</td>\n",
       "      <td>85.07</td>\n",
       "      <td>25.56</td>\n",
       "      <td>9321</td>\n",
       "    </tr>\n",
       "    <tr>\n",
       "      <th>4</th>\n",
       "      <td>Cocoa, beans</td>\n",
       "      <td>2344.72</td>\n",
       "      <td>17.61</td>\n",
       "      <td>84.12</td>\n",
       "      <td>25.76</td>\n",
       "      <td>8800</td>\n",
       "    </tr>\n",
       "  </tbody>\n",
       "</table>\n",
       "</div>"
      ],
      "text/plain": [
       "           Crop  Precipitation (mm day-1)  \\\n",
       "0  Cocoa, beans                   2248.92   \n",
       "1  Cocoa, beans                   1938.42   \n",
       "2  Cocoa, beans                   2301.54   \n",
       "3  Cocoa, beans                   2592.35   \n",
       "4  Cocoa, beans                   2344.72   \n",
       "\n",
       "   Specific Humidity at 2 Meters (g/kg)  Relative Humidity at 2 Meters (%)  \\\n",
       "0                                 17.72                              83.40   \n",
       "1                                 17.54                              82.11   \n",
       "2                                 17.81                              82.79   \n",
       "3                                 17.61                              85.07   \n",
       "4                                 17.61                              84.12   \n",
       "\n",
       "   Temperature at 2 Meters (C)  Yield  \n",
       "0                        26.01  11560  \n",
       "1                        26.11  11253  \n",
       "2                        26.24   9456  \n",
       "3                        25.56   9321  \n",
       "4                        25.76   8800  "
      ]
     },
     "execution_count": 9,
     "metadata": {},
     "output_type": "execute_result"
    }
   ],
   "source": [
    "csv_path = \"../data/crop_yield.csv\"\n",
    "df = pd.read_csv(csv_path)\n",
    "print(\"Shape:\", df.shape)\n",
    "df.head()"
   ]
  },
  {
   "cell_type": "markdown",
   "id": "dc78bf3a",
   "metadata": {},
   "source": [
    "## 2) Normalizar nomes de colunas e limpeza básica\n",
    "\n",
    "Convertendo nomes para snake_case e convertendo colunas numéricas.\n",
    "Usaremos como target a coluna `Yield`."
   ]
  },
  {
   "cell_type": "code",
   "execution_count": 16,
   "id": "c371e755",
   "metadata": {},
   "outputs": [
    {
     "name": "stdout",
     "output_type": "stream",
     "text": [
      "Colunas originais: ['crop', 'precipitation_mm_day_1', 'specific_humidity_at_2_meters_g_kg', 'relative_humidity_at_2_meters_pct', 'temperature_at_2_meters_c', 'yield']\n"
     ]
    },
    {
     "data": {
      "text/html": [
       "<div>\n",
       "<style scoped>\n",
       "    .dataframe tbody tr th:only-of-type {\n",
       "        vertical-align: middle;\n",
       "    }\n",
       "\n",
       "    .dataframe tbody tr th {\n",
       "        vertical-align: top;\n",
       "    }\n",
       "\n",
       "    .dataframe thead th {\n",
       "        text-align: right;\n",
       "    }\n",
       "</style>\n",
       "<table border=\"1\" class=\"dataframe\">\n",
       "  <thead>\n",
       "    <tr style=\"text-align: right;\">\n",
       "      <th></th>\n",
       "      <th>count</th>\n",
       "      <th>mean</th>\n",
       "      <th>std</th>\n",
       "      <th>min</th>\n",
       "      <th>25%</th>\n",
       "      <th>50%</th>\n",
       "      <th>75%</th>\n",
       "      <th>max</th>\n",
       "    </tr>\n",
       "  </thead>\n",
       "  <tbody>\n",
       "    <tr>\n",
       "      <th>precipitation_mm_day_1</th>\n",
       "      <td>156.0</td>\n",
       "      <td>2486.498974</td>\n",
       "      <td>289.457914</td>\n",
       "      <td>1934.62</td>\n",
       "      <td>2302.99</td>\n",
       "      <td>2424.55</td>\n",
       "      <td>2718.08</td>\n",
       "      <td>3085.79</td>\n",
       "    </tr>\n",
       "    <tr>\n",
       "      <th>specific_humidity_at_2_meters_g_kg</th>\n",
       "      <td>156.0</td>\n",
       "      <td>18.203077</td>\n",
       "      <td>0.293923</td>\n",
       "      <td>17.54</td>\n",
       "      <td>18.03</td>\n",
       "      <td>18.27</td>\n",
       "      <td>18.40</td>\n",
       "      <td>18.70</td>\n",
       "    </tr>\n",
       "    <tr>\n",
       "      <th>relative_humidity_at_2_meters_pct</th>\n",
       "      <td>156.0</td>\n",
       "      <td>84.737692</td>\n",
       "      <td>0.996226</td>\n",
       "      <td>82.11</td>\n",
       "      <td>84.12</td>\n",
       "      <td>84.85</td>\n",
       "      <td>85.51</td>\n",
       "      <td>86.10</td>\n",
       "    </tr>\n",
       "    <tr>\n",
       "      <th>temperature_at_2_meters_c</th>\n",
       "      <td>156.0</td>\n",
       "      <td>26.183590</td>\n",
       "      <td>0.261050</td>\n",
       "      <td>25.56</td>\n",
       "      <td>26.02</td>\n",
       "      <td>26.13</td>\n",
       "      <td>26.30</td>\n",
       "      <td>26.81</td>\n",
       "    </tr>\n",
       "    <tr>\n",
       "      <th>yield</th>\n",
       "      <td>156.0</td>\n",
       "      <td>56153.096154</td>\n",
       "      <td>70421.958897</td>\n",
       "      <td>5249.00</td>\n",
       "      <td>8327.75</td>\n",
       "      <td>18871.00</td>\n",
       "      <td>67518.75</td>\n",
       "      <td>203399.00</td>\n",
       "    </tr>\n",
       "  </tbody>\n",
       "</table>\n",
       "</div>"
      ],
      "text/plain": [
       "                                    count          mean           std  \\\n",
       "precipitation_mm_day_1              156.0   2486.498974    289.457914   \n",
       "specific_humidity_at_2_meters_g_kg  156.0     18.203077      0.293923   \n",
       "relative_humidity_at_2_meters_pct   156.0     84.737692      0.996226   \n",
       "temperature_at_2_meters_c           156.0     26.183590      0.261050   \n",
       "yield                               156.0  56153.096154  70421.958897   \n",
       "\n",
       "                                        min      25%       50%       75%  \\\n",
       "precipitation_mm_day_1              1934.62  2302.99   2424.55   2718.08   \n",
       "specific_humidity_at_2_meters_g_kg    17.54    18.03     18.27     18.40   \n",
       "relative_humidity_at_2_meters_pct     82.11    84.12     84.85     85.51   \n",
       "temperature_at_2_meters_c             25.56    26.02     26.13     26.30   \n",
       "yield                               5249.00  8327.75  18871.00  67518.75   \n",
       "\n",
       "                                          max  \n",
       "precipitation_mm_day_1                3085.79  \n",
       "specific_humidity_at_2_meters_g_kg      18.70  \n",
       "relative_humidity_at_2_meters_pct       86.10  \n",
       "temperature_at_2_meters_c               26.81  \n",
       "yield                               203399.00  "
      ]
     },
     "execution_count": 16,
     "metadata": {},
     "output_type": "execute_result"
    }
   ],
   "source": [
    "orig_cols = df.columns.tolist()\n",
    "print(\"Colunas originais:\", orig_cols)\n",
    "\n",
    "def normalize_colname(col):\n",
    "    return (col.strip()\n",
    "               .replace(\" \", \"_\")\n",
    "               .replace(\"(\", \"\")\n",
    "               .replace(\")\", \"\")\n",
    "               .replace(\"%\", \"pct\")\n",
    "               .replace(\"/\", \"_\")\n",
    "               .replace(\"-\", \"_\")\n",
    "               .replace(\".\", \"\")\n",
    "               .replace(\"__\", \"_\")\n",
    "               .lower())\n",
    "\n",
    "df.columns = [normalize_colname(c) for c in df.columns]\n",
    "\n",
    "num_cols = [\n",
    "    'relative_humidity_at_2_meters_pct',\n",
    "    'temperature_at_2_meters_c',\n",
    "    'yield'\n",
    "]\n",
    "for c in num_cols:\n",
    "    if c in df.columns:\n",
    "        df[c] = pd.to_numeric(df[c], errors='coerce')\n",
    "\n",
    "df = df.drop_duplicates()\n",
    "df[num_cols] = df[num_cols].fillna(df[num_cols].median())\n",
    "df.describe().T"
   ]
  },
  {
   "cell_type": "markdown",
   "id": "3cd8bce2",
   "metadata": {},
   "source": [
    "## 3) Análise rápida (histogramas e correlações)"
   ]
  },
  {
   "cell_type": "code",
   "execution_count": 17,
   "id": "bc1c2457",
   "metadata": {},
   "outputs": [
    {
     "data": {
      "image/png": "[encoded data removed]",
      "text/plain": [
       "<Figure size 500x300 with 1 Axes>"
      ]
     },
     "metadata": {},
     "output_type": "display_data"
    },
    {
     "data": {
      "image/png": "[encoded data removed]",
      "text/plain": [
       "<Figure size 500x300 with 1 Axes>"
      ]
     },
     "metadata": {},
     "output_type": "display_data"
    },
    {
     "name": "stdout",
     "output_type": "stream",
     "text": [
      "                                   relative_humidity_at_2_meters_pct  \\\n",
      "relative_humidity_at_2_meters_pct                           1.000000   \n",
      "temperature_at_2_meters_c                                  -0.337313   \n",
      "yield                                                       0.000008   \n",
      "\n",
      "                                   temperature_at_2_meters_c     yield  \n",
      "relative_humidity_at_2_meters_pct                  -0.337313  0.000008  \n",
      "temperature_at_2_meters_c                           1.000000  0.013007  \n",
      "yield                                               0.013007  1.000000  \n"
     ]
    },
    {
     "data": {
      "image/png": "[encoded data removed]",
      "text/plain": [
       "<Figure size 600x400 with 2 Axes>"
      ]
     },
     "metadata": {},
     "output_type": "display_data"
    }
   ],
   "source": [
    "for c in num_cols[:-1]:\n",
    "    plt.figure(figsize=(5,3))\n",
    "    plt.hist(df[c].dropna(), bins=30)\n",
    "    plt.title(c)\n",
    "    plt.tight_layout()\n",
    "    plt.show()\n",
    "\n",
    "corr = df[num_cols].corr()\n",
    "print(corr)\n",
    "plt.figure(figsize=(6,4))\n",
    "plt.imshow(corr, cmap='coolwarm', vmin=-1, vmax=1)\n",
    "plt.colorbar()\n",
    "plt.xticks(range(len(num_cols)), num_cols, rotation=45, ha='right')\n",
    "plt.yticks(range(len(num_cols)), num_cols)\n",
    "plt.title(\"Matriz de Correlação (numéricas)\")\n",
    "plt.tight_layout()\n",
    "plt.show()"
   ]
  },
  {
   "cell_type": "markdown",
   "id": "6e0557e0",
   "metadata": {},
   "source": [
    "## 4) Clusterização (KMeans) — identificar perfis ambientais\n",
    "\n",
    "Usaremos as features numéricas (exceto yield) para segmentar em 3 clusters."
   ]
  },
  {
   "cell_type": "code",
   "execution_count": 19,
   "id": "10fac97e",
   "metadata": {},
   "outputs": [
    {
     "name": "stdout",
     "output_type": "stream",
     "text": [
      "Centros dos clusters (valores originais):\n"
     ]
    },
    {
     "data": {
      "text/html": [
       "<div>\n",
       "<style scoped>\n",
       "    .dataframe tbody tr th:only-of-type {\n",
       "        vertical-align: middle;\n",
       "    }\n",
       "\n",
       "    .dataframe tbody tr th {\n",
       "        vertical-align: top;\n",
       "    }\n",
       "\n",
       "    .dataframe thead th {\n",
       "        text-align: right;\n",
       "    }\n",
       "</style>\n",
       "<table border=\"1\" class=\"dataframe\">\n",
       "  <thead>\n",
       "    <tr style=\"text-align: right;\">\n",
       "      <th></th>\n",
       "      <th>relative_humidity_at_2_meters_pct</th>\n",
       "      <th>temperature_at_2_meters_c</th>\n",
       "    </tr>\n",
       "  </thead>\n",
       "  <tbody>\n",
       "    <tr>\n",
       "      <th>0</th>\n",
       "      <td>85.657647</td>\n",
       "      <td>26.075294</td>\n",
       "    </tr>\n",
       "    <tr>\n",
       "      <th>1</th>\n",
       "      <td>84.456923</td>\n",
       "      <td>26.123846</td>\n",
       "    </tr>\n",
       "    <tr>\n",
       "      <th>2</th>\n",
       "      <td>83.405556</td>\n",
       "      <td>26.474444</td>\n",
       "    </tr>\n",
       "  </tbody>\n",
       "</table>\n",
       "</div>"
      ],
      "text/plain": [
       "   relative_humidity_at_2_meters_pct  temperature_at_2_meters_c\n",
       "0                          85.657647                  26.075294\n",
       "1                          84.456923                  26.123846\n",
       "2                          83.405556                  26.474444"
      ]
     },
     "metadata": {},
     "output_type": "display_data"
    }
   ],
   "source": [
    "features_for_clustering = [\n",
    "    'relative_humidity_at_2_meters_pct',\n",
    "    'temperature_at_2_meters_c'\n",
    "]\n",
    "X = df[features_for_clustering].copy()\n",
    "scaler = StandardScaler()\n",
    "Xs = scaler.fit_transform(X)\n",
    "kmeans = KMeans(n_clusters=3, random_state=42)\n",
    "df['cluster'] = kmeans.fit_predict(Xs)\n",
    "\n",
    "centers = scaler.inverse_transform(kmeans.cluster_centers_)\n",
    "centers_df = pd.DataFrame(centers, columns=features_for_clustering)\n",
    "print(\"Centros dos clusters (valores originais):\")\n",
    "display(centers_df)"
   ]
  },
  {
   "cell_type": "markdown",
   "id": "3b7ba095",
   "metadata": {},
   "source": [
    "## 5) Preparação para modelagem\n",
    "\n",
    "- One-hot encode para 'crop' (se existente)\n",
    "- Separar X e y\n",
    "- Train/Test split\n",
    "- Escalar features numéricas (salvar o scaler)"
   ]
  },
  {
   "cell_type": "code",
   "execution_count": 21,
   "id": "d94493d5",
   "metadata": {},
   "outputs": [
    {
     "name": "stdout",
     "output_type": "stream",
     "text": [
      "Preparação concluída. Formatos: (124, 8) (32, 8)\n"
     ]
    }
   ],
   "source": [
    "if 'crop' in df.columns:\n",
    "    df = pd.get_dummies(df, columns=['crop'], drop_first=True)\n",
    "\n",
    "target = 'yield'\n",
    "X = df.drop(columns=[target])\n",
    "y = df[target]\n",
    "\n",
    "numeric_cols = X.select_dtypes(include=np.number).columns.tolist()\n",
    "\n",
    "X_train, X_test, y_train, y_test = train_test_split(X, y, test_size=0.2, random_state=42)\n",
    "\n",
    "scaler2 = StandardScaler()\n",
    "X_train[numeric_cols] = scaler2.fit_transform(X_train[numeric_cols])\n",
    "X_test[numeric_cols] = scaler2.transform(X_test[numeric_cols])\n",
    "\n",
    "joblib.dump(scaler2, \"../models/scaler.joblib\")\n",
    "joblib.dump(list(X.columns), \"../models/feature_order.joblib\")\n",
    "print(\"Preparação concluída. Formatos:\", X_train.shape, X_test.shape)"
   ]
  },
  {
   "cell_type": "markdown",
   "id": "32a8fc91",
   "metadata": {},
   "source": [
    "## 6) Treinar 5 modelos e avaliar\n",
    "Modelos:\n",
    "- LinearRegression\n",
    "- DecisionTreeRegressor\n",
    "- RandomForestRegressor\n",
    "- XGBRegressor\n",
    "- SVR (RBF)"
   ]
  },
  {
   "cell_type": "code",
   "execution_count": 30,
   "id": "4a6ac0bd",
   "metadata": {},
   "outputs": [
    {
     "name": "stdout",
     "output_type": "stream",
     "text": [
      "Treinando linear...\n",
      "linear RMSE=4426.887 MAE=3155.582 R2=0.995\n",
      "Treinando dt...\n",
      "dt RMSE=6767.607 MAE=3448.625 R2=0.988\n",
      "Treinando rf...\n",
      "rf RMSE=4709.876 MAE=2684.298 R2=0.994\n",
      "Treinando xgb...\n",
      "rf RMSE=4709.876 MAE=2684.298 R2=0.994\n",
      "Treinando xgb...\n",
      "xgb RMSE=6450.570 MAE=3832.256 R2=0.989\n",
      "Treinando svr...\n",
      "svr RMSE=71312.308 MAE=38972.548 R2=-0.311\n",
      "xgb RMSE=6450.570 MAE=3832.256 R2=0.989\n",
      "Treinando svr...\n",
      "svr RMSE=71312.308 MAE=38972.548 R2=-0.311\n"
     ]
    },
    {
     "data": {
      "text/html": [
       "<div>\n",
       "<style scoped>\n",
       "    .dataframe tbody tr th:only-of-type {\n",
       "        vertical-align: middle;\n",
       "    }\n",
       "\n",
       "    .dataframe tbody tr th {\n",
       "        vertical-align: top;\n",
       "    }\n",
       "\n",
       "    .dataframe thead th {\n",
       "        text-align: right;\n",
       "    }\n",
       "</style>\n",
       "<table border=\"1\" class=\"dataframe\">\n",
       "  <thead>\n",
       "    <tr style=\"text-align: right;\">\n",
       "      <th></th>\n",
       "      <th>model</th>\n",
       "      <th>rmse</th>\n",
       "      <th>mae</th>\n",
       "      <th>r2</th>\n",
       "    </tr>\n",
       "  </thead>\n",
       "  <tbody>\n",
       "    <tr>\n",
       "      <th>0</th>\n",
       "      <td>linear</td>\n",
       "      <td>4426.887308</td>\n",
       "      <td>3155.581850</td>\n",
       "      <td>0.994948</td>\n",
       "    </tr>\n",
       "    <tr>\n",
       "      <th>2</th>\n",
       "      <td>rf</td>\n",
       "      <td>4709.876263</td>\n",
       "      <td>2684.297656</td>\n",
       "      <td>0.994281</td>\n",
       "    </tr>\n",
       "    <tr>\n",
       "      <th>3</th>\n",
       "      <td>xgb</td>\n",
       "      <td>6450.569824</td>\n",
       "      <td>3832.255615</td>\n",
       "      <td>0.989273</td>\n",
       "    </tr>\n",
       "    <tr>\n",
       "      <th>1</th>\n",
       "      <td>dt</td>\n",
       "      <td>6767.606939</td>\n",
       "      <td>3448.625000</td>\n",
       "      <td>0.988193</td>\n",
       "    </tr>\n",
       "    <tr>\n",
       "      <th>4</th>\n",
       "      <td>svr</td>\n",
       "      <td>71312.308096</td>\n",
       "      <td>38972.547556</td>\n",
       "      <td>-0.311029</td>\n",
       "    </tr>\n",
       "  </tbody>\n",
       "</table>\n",
       "</div>"
      ],
      "text/plain": [
       "    model          rmse           mae        r2\n",
       "0  linear   4426.887308   3155.581850  0.994948\n",
       "2      rf   4709.876263   2684.297656  0.994281\n",
       "3     xgb   6450.569824   3832.255615  0.989273\n",
       "1      dt   6767.606939   3448.625000  0.988193\n",
       "4     svr  71312.308096  38972.547556 -0.311029"
      ]
     },
     "metadata": {},
     "output_type": "display_data"
    }
   ],
   "source": [
    "models = {\n",
    "    'linear': LinearRegression(),\n",
    "    'dt': DecisionTreeRegressor(random_state=42),\n",
    "    'rf': RandomForestRegressor(n_estimators=200, random_state=42),\n",
    "    'xgb': XGBRegressor(n_estimators=200, random_state=42, verbosity=0),\n",
    "    'svr': SVR(kernel='rbf', C=1.0, epsilon=0.2)\n",
    "}\n",
    "\n",
    "results = []\n",
    "for name, m in models.items():\n",
    "    print(f\"Treinando {name}...\")\n",
    "    m.fit(X_train, y_train)\n",
    "    preds = m.predict(X_test)\n",
    "    rmse = root_mean_squared_error(y_test, preds)\n",
    "    mae = mean_absolute_error(y_test, preds)\n",
    "    r2 = r2_score(y_test, preds)\n",
    "    joblib.dump(m, f\"../models/{name}_model.joblib\")\n",
    "    results.append({'model': name, 'rmse': rmse, 'mae': mae, 'r2': r2})\n",
    "    print(f\"{name} RMSE={rmse:.3f} MAE={mae:.3f} R2={r2:.3f}\")\n",
    "\n",
    "res_df = pd.DataFrame(results).sort_values('rmse')\n",
    "res_df.to_csv(\"../artifacts/metrics.csv\", index=False)\n",
    "display(res_df)"
   ]
  },
  {
   "cell_type": "markdown",
   "id": "7830fd91",
   "metadata": {},
   "source": [
    "## 7) Feature importances (se disponível para o modelo escolhido)\n",
    "\n",
    "Se o modelo (ex.: Random Forest ou XGBoost) expõe importâncias, gere gráfico e salve em `artifacts/feature_importances.png`."
   ]
  },
  {
   "cell_type": "code",
   "execution_count": 32,
   "id": "3f9e85fe",
   "metadata": {},
   "outputs": [
    {
     "data": {
      "image/png": "[encoded data removed]",
      "text/plain": [
       "<Figure size 800x450 with 1 Axes>"
      ]
     },
     "metadata": {},
     "output_type": "display_data"
    }
   ],
   "source": [
    "try:\n",
    "    rf = joblib.load(\"../models/rf_model.joblib\")\n",
    "    if hasattr(rf, \"feature_importances_\"):\n",
    "        fi = rf.feature_importances_\n",
    "        cols = X_train.columns.tolist()\n",
    "        idx = np.argsort(fi)[::-1]\n",
    "        plt.figure(figsize=(8,4.5))\n",
    "        plt.barh([cols[i] for i in idx], fi[idx])\n",
    "        plt.gca().invert_yaxis()\n",
    "        plt.xlabel(\"Feature importance (relative)\")\n",
    "        plt.title(\"Feature importances - Random Forest\")\n",
    "        plt.tight_layout()\n",
    "        plt.savefig(\"../artifacts/feature_importances.png\")\n",
    "        plt.show()\n",
    "    else:\n",
    "        print(\"Modelo RF não contém attribute feature_importances_\")\n",
    "except Exception as e:\n",
    "    print(\"Não foi possível gerar feature importances:\", e)"
   ]
  }
 ],
 "metadata": {
  "kernelspec": {
   "display_name": ".venv",
   "language": "python",
   "name": "python3"
  },
  "language_info": {
   "codemirror_mode": {
    "name": "ipython",
    "version": 3
   },
   "file_extension": ".py",
   "mimetype": "text/x-python",
   "name": "python",
   "nbconvert_exporter": "python",
   "pygments_lexer": "ipython3",
   "version": "3.11.9"
  }
 },
 "nbformat": 4,
 "nbformat_minor": 5
}
