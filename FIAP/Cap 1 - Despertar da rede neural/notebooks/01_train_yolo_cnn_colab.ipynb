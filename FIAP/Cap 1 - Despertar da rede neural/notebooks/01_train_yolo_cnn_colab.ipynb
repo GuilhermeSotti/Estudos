{
 "cells": [
  {
   "cell_type": "markdown",
   "id": "2ed34e7a",
   "metadata": {},
   "source": [
    "# YOLO CNN Training Notebook\n",
    "This notebook is used to train a YOLO-based Convolutional Neural Network (CNN) using Google Colab."
   ]
  },
  {
   "cell_type": "code",
   "execution_count": null,
   "id": "16b79e48",
   "metadata": {},
   "outputs": [],
   "source": [
    "# Célula 0 - Mount Drive + ambiente\n",
    "from google.colab import drive\n",
    "drive.mount('/content/drive', force_remount=True)"
   ]
  },
  {
   "cell_type": "code",
   "execution_count": null,
   "id": "2b8b84c2",
   "metadata": {},
   "outputs": [],
   "source": [
    "# Célula 1 - instalar libs\n",
    "!pip install -U pip\n",
    "!pip install -r /content/drive/MyDrive/FarmTech_Fase6/Cap1_Despertar_RedeNeural/requirements.txt\n",
    "# Caso você queira usar yolov5 do repo oficial:\n",
    "!git clone https://github.com/ultralytics/yolov5.git /content/yolov5\n",
    "%cd /content/yolov5\n",
    "!pip install -r requirements.txt\n",
    "%cd /content"
   ]
  },
  {
   "cell_type": "code",
   "execution_count": null,
   "id": "28389c27",
   "metadata": {},
   "outputs": [],
   "source": [
    "# Célula 2 - preparar estrutura local (opcional)\n",
    "import os\n",
    "REPO_ROOT = \"/content/drive/MyDrive/FarmTech_Fase6/Cap1_Despertar_RedeNeural\"\n",
    "os.makedirs(REPO_ROOT, exist_ok=True)\n",
    "!ls -la \"{REPO_ROOT}\""
   ]
  },
  {
   "cell_type": "markdown",
   "id": "932cd6b8",
   "metadata": {},
   "source": [
    "# Célula 3 - Instruções para rotulagem (MakeSense)\n",
    "1. Acesse https://www.makesense.ai/\n",
    "2. Upload das imagens de treino (pasta train/*).\n",
    "3. Escolha \"YOLO\" como formato de exportação.\n",
    "4. Após rotular todas, clique em Export -> Download YOLO.\n",
    "5. Faça upload do .zip para o seu Drive e extraia em /drive/MyDrive/.../dataset/train/labels/\n",
    "Inclua tela: (insira screenshots aqui)."
   ]
  },
  {
   "cell_type": "code",
   "execution_count": null,
   "id": "98d5ac22",
   "metadata": {},
   "outputs": [],
   "source": [
    "# Célula 4 - Criar data.yaml para YOLO\n",
    "import yaml\n",
    "data = {\n",
    "    'train': '/content/drive/MyDrive/FarmTech_Fase6/Cap1_Despertar_RedeNeural/dataset/train',\n",
    "    'val': '/content/drive/MyDrive/FarmTech_Fase6/Cap1_Despertar_RedeNeural/dataset/val',\n",
    "    'test': '/content/drive/MyDrive/FarmTech_Fase6/Cap1_Despertar_RedeNeural/dataset/test',\n",
    "    'nc': 2,\n",
    "    'names': ['vaca','cerca']\n",
    "}\n",
    "with open('/content/drive/MyDrive/FarmTech_Fase6/Cap1_Despertar_RedeNeural/data.yaml','w') as f:\n",
    "    yaml.dump(data, f)\n",
    "print(\"data.yaml criado\")"
   ]
  },
  {
   "cell_type": "code",
   "execution_count": null,
   "id": "7f064f85",
   "metadata": {},
   "outputs": [],
   "source": [
    "# Célula 5 - Treinar YOLOv5 (30 epochs)\n",
    "%cd /content/yolov5\n",
    "!python train.py --img 640 --batch 8 --epochs 30 --data /content/drive/MyDrive/FarmTech_Fase6/Cap1_Despertar_RedeNeural/data.yaml --weights yolov5s.pt --name yolov5_exp_30"
   ]
  },
  {
   "cell_type": "code",
   "execution_count": null,
   "id": "d8c35bf8",
   "metadata": {},
   "outputs": [],
   "source": [
    "# Célula 6 - Treinar YOLOv5 (60 epochs)\n",
    "%cd /content/yolov5\n",
    "!python train.py --img 640 --batch 8 --epochs 60 --data /content/drive/MyDrive/FarmTech_Fase6/Cap1_Despertar_RedeNeural/data.yaml --weights yolov5s.pt --name yolov5_exp_60"
   ]
  },
  {
   "cell_type": "code",
   "execution_count": null,
   "id": "1800d135",
   "metadata": {},
   "outputs": [],
   "source": [
    "# Célula 7 - Mostrar diretórios de resultados e capturar screenshot (lista)\n",
    "!ls -la /content/yolov5/runs/train/\n",
    "# copiar para Drive\n",
    "!cp -r /content/yolov5/runs /content/drive/MyDrive/FarmTech_Fase6/Cap1_Despertar_RedeNeural/results/yolov5_runs\n",
    "print(\"Runs copiados para Drive\")"
   ]
  },
  {
   "cell_type": "code",
   "execution_count": null,
   "id": "3138fb53",
   "metadata": {},
   "outputs": [],
   "source": [
    "# Célula 8 - Inferência com o melhor checkpoint e salvar imagens com detecções\n",
    "%cd /content/yolov5\n",
    "from pathlib import Path\n",
    "from IPython.display import Image, display\n",
    "weights = '/content/yolov5/runs/train/yolov5_exp_60/weights/best.pt'  # ajuste conforme seu run\n",
    "!python detect.py --weights {weights} --source /content/drive/MyDrive/FarmTech_Fase6/Cap1_Despertar_RedeNeural/dataset/test --save-txt --save-conf --project /content/drive/MyDrive/FarmTech_Fase6/Cap1_Despertar_RedeNeural/results --name yolov5_test_pred\n",
    "# Mostrar uma imagem de teste com predição\n",
    "display(Image('/content/drive/MyDrive/FarmTech_Fase6/Cap1_Despertar_RedeNeural/results/yolov5_test_pred/images/0.jpg', width=640))"
   ]
  },
  {
   "cell_type": "code",
   "execution_count": null,
   "id": "1c8e0ccf",
   "metadata": {},
   "outputs": [],
   "source": [
    "# Célula 9 - Treinar CNN localmente (30 épocas como exemplo)\n",
    "!python /content/drive/MyDrive/FarmTech_Fase6/Cap1_Despertar_RedeNeural/src/train_cnn.py"
   ]
  },
  {
   "cell_type": "code",
   "execution_count": null,
   "id": "7c8d9c5e",
   "metadata": {},
   "outputs": [],
   "source": [
    "# Célula 10 - Carregar predições, calcular métricas de classificação e salvar CSVs\n",
    "import pandas as pd\n",
    "# Exemplo: carregar cnn_metrics.csv\n",
    "df = pd.read_csv('/content/drive/MyDrive/FarmTech_Fase6/Cap1_Despertar_RedeNeural/results/cnn/cnn_metrics.csv')\n",
    "df.head()"
   ]
  }
 ],
 "metadata": {
  "language_info": {
   "name": "python"
  }
 },
 "nbformat": 4,
 "nbformat_minor": 5
}
